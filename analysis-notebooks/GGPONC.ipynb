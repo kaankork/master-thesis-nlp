{
 "cells": [
  {
   "cell_type": "code",
   "execution_count": 1,
   "id": "d0344676",
   "metadata": {},
   "outputs": [],
   "source": [
    "import pandas as pd"
   ]
  },
  {
   "cell_type": "code",
   "execution_count": 2,
   "id": "7515374c",
   "metadata": {},
   "outputs": [
    {
     "name": "stdout",
     "output_type": "stream",
     "text": [
      "/Users/kaankorkmaz/projects_KK/thesis/analysis\r\n"
     ]
    }
   ],
   "source": [
    "!pwd"
   ]
  },
  {
   "cell_type": "code",
   "execution_count": 3,
   "id": "17d346c0",
   "metadata": {},
   "outputs": [
    {
     "ename": "AttributeError",
     "evalue": "module 'pandas' has no attribute 'read_xml'",
     "output_type": "error",
     "traceback": [
      "\u001b[0;31m---------------------------------------------------------------------------\u001b[0m",
      "\u001b[0;31mAttributeError\u001b[0m                            Traceback (most recent call last)",
      "\u001b[0;32m<ipython-input-3-853e5642ee87>\u001b[0m in \u001b[0;36m<module>\u001b[0;34m\u001b[0m\n\u001b[0;32m----> 1\u001b[0;31m \u001b[0mdf\u001b[0m \u001b[0;34m=\u001b[0m \u001b[0mpd\u001b[0m\u001b[0;34m.\u001b[0m\u001b[0mread_xml\u001b[0m\u001b[0;34m(\u001b[0m\u001b[0;34m'/Users/kaankorkmaz/projects_KK/thesis/data/GGPONC/cpg-corpus-cms.xml'\u001b[0m\u001b[0;34m)\u001b[0m\u001b[0;34m\u001b[0m\u001b[0;34m\u001b[0m\u001b[0m\n\u001b[0m",
      "\u001b[0;32m/opt/anaconda3/envs/NLP/lib/python3.8/site-packages/pandas/__init__.py\u001b[0m in \u001b[0;36m__getattr__\u001b[0;34m(name)\u001b[0m\n\u001b[1;32m    242\u001b[0m         \u001b[0;32mreturn\u001b[0m \u001b[0m_SparseArray\u001b[0m\u001b[0;34m\u001b[0m\u001b[0;34m\u001b[0m\u001b[0m\n\u001b[1;32m    243\u001b[0m \u001b[0;34m\u001b[0m\u001b[0m\n\u001b[0;32m--> 244\u001b[0;31m     \u001b[0;32mraise\u001b[0m \u001b[0mAttributeError\u001b[0m\u001b[0;34m(\u001b[0m\u001b[0;34mf\"module 'pandas' has no attribute '{name}'\"\u001b[0m\u001b[0;34m)\u001b[0m\u001b[0;34m\u001b[0m\u001b[0;34m\u001b[0m\u001b[0m\n\u001b[0m\u001b[1;32m    245\u001b[0m \u001b[0;34m\u001b[0m\u001b[0m\n\u001b[1;32m    246\u001b[0m \u001b[0;34m\u001b[0m\u001b[0m\n",
      "\u001b[0;31mAttributeError\u001b[0m: module 'pandas' has no attribute 'read_xml'"
     ]
    }
   ],
   "source": [
    "df = pd.read_xml('/Users/kaankorkmaz/projects_KK/thesis/data/GGPONC/cpg-corpus-cms.xml')"
   ]
  },
  {
   "cell_type": "code",
   "execution_count": 4,
   "id": "04a67d41",
   "metadata": {},
   "outputs": [],
   "source": [
    "df = pd.read_csv('/Users/kaankorkmaz/projects_KK/thesis/data/icd_codes/icd_codes_combined.csv')"
   ]
  },
  {
   "cell_type": "code",
   "execution_count": 5,
   "id": "2985f12e",
   "metadata": {},
   "outputs": [
    {
     "data": {
      "text/html": [
       "<div>\n",
       "<style scoped>\n",
       "    .dataframe tbody tr th:only-of-type {\n",
       "        vertical-align: middle;\n",
       "    }\n",
       "\n",
       "    .dataframe tbody tr th {\n",
       "        vertical-align: top;\n",
       "    }\n",
       "\n",
       "    .dataframe thead th {\n",
       "        text-align: right;\n",
       "    }\n",
       "</style>\n",
       "<table border=\"1\" class=\"dataframe\">\n",
       "  <thead>\n",
       "    <tr style=\"text-align: right;\">\n",
       "      <th></th>\n",
       "      <th>Unnamed: 0</th>\n",
       "      <th>icd_code</th>\n",
       "      <th>icd_code_desc</th>\n",
       "      <th>icd_code_desc_de</th>\n",
       "    </tr>\n",
       "  </thead>\n",
       "  <tbody>\n",
       "    <tr>\n",
       "      <th>0</th>\n",
       "      <td>0</td>\n",
       "      <td>A000</td>\n",
       "      <td>Cholera due to Vibrio cholerae 01, biovar chol...</td>\n",
       "      <td>Cholera durch Vibrio cholerae O:1, Biovar chol...</td>\n",
       "    </tr>\n",
       "    <tr>\n",
       "      <th>1</th>\n",
       "      <td>1</td>\n",
       "      <td>A001</td>\n",
       "      <td>Cholera due to Vibrio cholerae 01, biovar eltor</td>\n",
       "      <td>Cholera durch Vibrio cholerae O:1, Biovar eltor</td>\n",
       "    </tr>\n",
       "    <tr>\n",
       "      <th>2</th>\n",
       "      <td>2</td>\n",
       "      <td>A009</td>\n",
       "      <td>Cholera, unspecified</td>\n",
       "      <td>Cholera, nicht näher bezeichnet</td>\n",
       "    </tr>\n",
       "    <tr>\n",
       "      <th>3</th>\n",
       "      <td>3</td>\n",
       "      <td>A0100</td>\n",
       "      <td>Typhoid fever, unspecified</td>\n",
       "      <td>NaN</td>\n",
       "    </tr>\n",
       "    <tr>\n",
       "      <th>4</th>\n",
       "      <td>4</td>\n",
       "      <td>A0101</td>\n",
       "      <td>Typhoid meningitis</td>\n",
       "      <td>NaN</td>\n",
       "    </tr>\n",
       "    <tr>\n",
       "      <th>...</th>\n",
       "      <td>...</td>\n",
       "      <td>...</td>\n",
       "      <td>...</td>\n",
       "      <td>...</td>\n",
       "    </tr>\n",
       "    <tr>\n",
       "      <th>81126</th>\n",
       "      <td>81126</td>\n",
       "      <td>U995</td>\n",
       "      <td>NaN</td>\n",
       "      <td>Nicht belegte Schlüsselnummer U99.5!</td>\n",
       "    </tr>\n",
       "    <tr>\n",
       "      <th>81127</th>\n",
       "      <td>81127</td>\n",
       "      <td>U996</td>\n",
       "      <td>NaN</td>\n",
       "      <td>Nicht belegte Schlüsselnummer U99.6!</td>\n",
       "    </tr>\n",
       "    <tr>\n",
       "      <th>81128</th>\n",
       "      <td>81128</td>\n",
       "      <td>U997</td>\n",
       "      <td>NaN</td>\n",
       "      <td>Nicht belegte Schlüsselnummer U99.7!</td>\n",
       "    </tr>\n",
       "    <tr>\n",
       "      <th>81129</th>\n",
       "      <td>81129</td>\n",
       "      <td>U998</td>\n",
       "      <td>NaN</td>\n",
       "      <td>Nicht belegte Schlüsselnummer U99.8!</td>\n",
       "    </tr>\n",
       "    <tr>\n",
       "      <th>81130</th>\n",
       "      <td>81130</td>\n",
       "      <td>U999</td>\n",
       "      <td>NaN</td>\n",
       "      <td>Nicht belegte Schlüsselnummer U99.9!</td>\n",
       "    </tr>\n",
       "  </tbody>\n",
       "</table>\n",
       "<p>81131 rows × 4 columns</p>\n",
       "</div>"
      ],
      "text/plain": [
       "       Unnamed: 0 icd_code                                      icd_code_desc  \\\n",
       "0               0     A000  Cholera due to Vibrio cholerae 01, biovar chol...   \n",
       "1               1     A001    Cholera due to Vibrio cholerae 01, biovar eltor   \n",
       "2               2     A009                               Cholera, unspecified   \n",
       "3               3    A0100                         Typhoid fever, unspecified   \n",
       "4               4    A0101                                 Typhoid meningitis   \n",
       "...           ...      ...                                                ...   \n",
       "81126       81126     U995                                                NaN   \n",
       "81127       81127     U996                                                NaN   \n",
       "81128       81128     U997                                                NaN   \n",
       "81129       81129     U998                                                NaN   \n",
       "81130       81130     U999                                                NaN   \n",
       "\n",
       "                                        icd_code_desc_de  \n",
       "0      Cholera durch Vibrio cholerae O:1, Biovar chol...  \n",
       "1        Cholera durch Vibrio cholerae O:1, Biovar eltor  \n",
       "2                        Cholera, nicht näher bezeichnet  \n",
       "3                                                    NaN  \n",
       "4                                                    NaN  \n",
       "...                                                  ...  \n",
       "81126               Nicht belegte Schlüsselnummer U99.5!  \n",
       "81127               Nicht belegte Schlüsselnummer U99.6!  \n",
       "81128               Nicht belegte Schlüsselnummer U99.7!  \n",
       "81129               Nicht belegte Schlüsselnummer U99.8!  \n",
       "81130               Nicht belegte Schlüsselnummer U99.9!  \n",
       "\n",
       "[81131 rows x 4 columns]"
      ]
     },
     "execution_count": 5,
     "metadata": {},
     "output_type": "execute_result"
    }
   ],
   "source": [
    "df"
   ]
  },
  {
   "cell_type": "markdown",
   "id": "6f09db1d",
   "metadata": {},
   "source": [
    "### Loading Embeddings\n",
    "Gensim library\n",
    "https://radimrehurek.com/gensim/models/keyedvectors.html"
   ]
  },
  {
   "cell_type": "code",
   "execution_count": 17,
   "id": "29700631",
   "metadata": {},
   "outputs": [],
   "source": [
    "from gensim.models import KeyedVectors\n",
    "\n",
    "embedding_path = '/Users/kaankorkmaz/projects_KK/thesis/data/GGPONC/Embeddings/'\n",
    "de_medical_glove_no_qui = 'German_Medical_Glove_no_cui_all_b.kv'\n",
    "de_medical_no_cui = 'German_Medical_no_cui_all_b.kv'\n",
    "glove_no_cui = 'GGPONC_glove_no_cui_all_b.kv'\n",
    "no_cui = 'GGPONC_no_cui_all_b.kv'"
   ]
  },
  {
   "cell_type": "code",
   "execution_count": 18,
   "id": "a0c3422f",
   "metadata": {},
   "outputs": [],
   "source": [
    "word_vectors = KeyedVectors.load_word2vec_format(embedding_path + de_medical_glove_no_qui, binary=True)"
   ]
  },
  {
   "cell_type": "code",
   "execution_count": 22,
   "id": "5015921f",
   "metadata": {},
   "outputs": [
    {
     "data": {
      "text/plain": [
       "0.3388415575027466"
      ]
     },
     "execution_count": 22,
     "metadata": {},
     "output_type": "execute_result"
    }
   ],
   "source": [
    "word_vectors.distance('gut','schlecht')"
   ]
  },
  {
   "cell_type": "code",
   "execution_count": 19,
   "id": "16633b2b",
   "metadata": {},
   "outputs": [
    {
     "name": "stderr",
     "output_type": "stream",
     "text": [
      "/opt/anaconda3/envs/NLP/lib/python3.8/site-packages/numpy/linalg/linalg.py:2559: RuntimeWarning: overflow encountered in multiply\n",
      "  s = (x.conj() * x).real\n",
      "/opt/anaconda3/envs/NLP/lib/python3.8/site-packages/numpy/linalg/linalg.py:2559: RuntimeWarning: invalid value encountered in multiply\n",
      "  s = (x.conj() * x).real\n"
     ]
    }
   ],
   "source": [
    "result = word_vectors.most_similar(positive=['ja', 'gut'], negative=['schlecht'])"
   ]
  },
  {
   "cell_type": "code",
   "execution_count": 16,
   "id": "e31f0d9c",
   "metadata": {},
   "outputs": [
    {
     "data": {
      "text/plain": [
       "[('Polyp', 0.8360335230827332),\n",
       " ('bildgebend', 0.8285369277000427),\n",
       " ('axilläre', 0.8268418908119202),\n",
       " ('vorausgesetzt', 0.8247952461242676),\n",
       " ('Karzinomzellen', 0.8240842223167419),\n",
       " ('gehemmt', 0.8234007358551025),\n",
       " ('Grimm', 0.8211125135421753),\n",
       " ('Disziplinen', 0.8206578493118286),\n",
       " ('−0.06', 0.8195486664772034),\n",
       " ('Gehirn', 0.8172796368598938)]"
      ]
     },
     "execution_count": 16,
     "metadata": {},
     "output_type": "execute_result"
    }
   ],
   "source": [
    "result"
   ]
  },
  {
   "cell_type": "code",
   "execution_count": null,
   "id": "2099b3ec",
   "metadata": {},
   "outputs": [],
   "source": [
    "print(pd)"
   ]
  },
  {
   "cell_type": "code",
   "execution_count": null,
   "id": "c63208e8",
   "metadata": {},
   "outputs": [],
   "source": []
  }
 ],
 "metadata": {
  "kernelspec": {
   "display_name": "Python 3",
   "language": "python",
   "name": "python3"
  },
  "language_info": {
   "codemirror_mode": {
    "name": "ipython",
    "version": 3
   },
   "file_extension": ".py",
   "mimetype": "text/x-python",
   "name": "python",
   "nbconvert_exporter": "python",
   "pygments_lexer": "ipython3",
   "version": "3.8.8"
  }
 },
 "nbformat": 4,
 "nbformat_minor": 5
}
