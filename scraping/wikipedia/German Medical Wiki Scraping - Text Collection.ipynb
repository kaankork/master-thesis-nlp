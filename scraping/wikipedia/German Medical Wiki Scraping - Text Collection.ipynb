{
 "cells": [
  {
   "cell_type": "markdown",
   "id": "48e1262a",
   "metadata": {},
   "source": [
    "# Scrape the content of p tags in these links"
   ]
  },
  {
   "cell_type": "markdown",
   "id": "5c2af23d",
   "metadata": {},
   "source": [
    "### Import libraries & links dataset"
   ]
  },
  {
   "cell_type": "code",
   "execution_count": 5,
   "id": "0183c0ed",
   "metadata": {},
   "outputs": [],
   "source": [
    "import requests\n",
    "from requests.adapters import HTTPAdapter\n",
    "from requests.packages.urllib3.util.retry import Retry\n",
    "\n",
    "from bs4 import BeautifulSoup\n",
    "from tqdm import tqdm\n",
    "import numpy as np\n",
    "from time import sleep\n",
    "import pandas as pd\n",
    "import random"
   ]
  },
  {
   "cell_type": "code",
   "execution_count": 6,
   "id": "2865cc9f",
   "metadata": {},
   "outputs": [
    {
     "name": "stdout",
     "output_type": "stream",
     "text": [
      "/Users/kaankorkmaz/projects_KK/thesis/scraping/wikipedia\r\n"
     ]
    }
   ],
   "source": [
    "!pwd"
   ]
  },
  {
   "cell_type": "code",
   "execution_count": 7,
   "id": "45881056",
   "metadata": {},
   "outputs": [],
   "source": [
    "df = pd.read_csv('/Users/kaankorkmaz/projects_KK/thesis/data/german_medical_wiki/list_links2scrape.csv', index_col=0)"
   ]
  },
  {
   "cell_type": "code",
   "execution_count": 8,
   "id": "9b08572e",
   "metadata": {},
   "outputs": [
    {
     "data": {
      "text/html": [
       "<div>\n",
       "<style scoped>\n",
       "    .dataframe tbody tr th:only-of-type {\n",
       "        vertical-align: middle;\n",
       "    }\n",
       "\n",
       "    .dataframe tbody tr th {\n",
       "        vertical-align: top;\n",
       "    }\n",
       "\n",
       "    .dataframe thead th {\n",
       "        text-align: right;\n",
       "    }\n",
       "</style>\n",
       "<table border=\"1\" class=\"dataframe\">\n",
       "  <thead>\n",
       "    <tr style=\"text-align: right;\">\n",
       "      <th></th>\n",
       "      <th>links</th>\n",
       "    </tr>\n",
       "  </thead>\n",
       "  <tbody>\n",
       "    <tr>\n",
       "      <th>0</th>\n",
       "      <td>https://de.wikipedia.org/wiki/Berufskrankheit</td>\n",
       "    </tr>\n",
       "    <tr>\n",
       "      <th>1</th>\n",
       "      <td>https://de.wikipedia.org/wiki/Aluminose</td>\n",
       "    </tr>\n",
       "    <tr>\n",
       "      <th>2</th>\n",
       "      <td>https://de.wikipedia.org/wiki/Alveolitis</td>\n",
       "    </tr>\n",
       "    <tr>\n",
       "      <th>3</th>\n",
       "      <td>https://de.wikipedia.org/wiki/Anthrakosilikose</td>\n",
       "    </tr>\n",
       "    <tr>\n",
       "      <th>4</th>\n",
       "      <td>https://de.wikipedia.org/wiki/Asbestose</td>\n",
       "    </tr>\n",
       "  </tbody>\n",
       "</table>\n",
       "</div>"
      ],
      "text/plain": [
       "                                            links\n",
       "0   https://de.wikipedia.org/wiki/Berufskrankheit\n",
       "1         https://de.wikipedia.org/wiki/Aluminose\n",
       "2        https://de.wikipedia.org/wiki/Alveolitis\n",
       "3  https://de.wikipedia.org/wiki/Anthrakosilikose\n",
       "4         https://de.wikipedia.org/wiki/Asbestose"
      ]
     },
     "execution_count": 8,
     "metadata": {},
     "output_type": "execute_result"
    }
   ],
   "source": [
    "df.head()"
   ]
  },
  {
   "cell_type": "code",
   "execution_count": 9,
   "id": "63173541",
   "metadata": {},
   "outputs": [],
   "source": [
    "links = df[\"links\"]"
   ]
  },
  {
   "cell_type": "markdown",
   "id": "7a1533b2",
   "metadata": {},
   "source": [
    "### Data collection"
   ]
  },
  {
   "cell_type": "code",
   "execution_count": 10,
   "id": "082c38bf",
   "metadata": {},
   "outputs": [
    {
     "name": "stderr",
     "output_type": "stream",
     "text": [
      "100%|██████████| 2766/2766 [17:46<00:00,  2.59it/s]\n",
      "0it [00:00, ?it/s]\n"
     ]
    }
   ],
   "source": [
    "# Such loop is necessary to overcome the ConnectionError\n",
    "\n",
    "all_text = []\n",
    "start = 0\n",
    "count = 0\n",
    "\n",
    "while start < 2766:\n",
    "    \n",
    "    start = 0 + count\n",
    "    \n",
    "    for url in tqdm(links[start:], position=0, leave=True):\n",
    "        try:\n",
    "            count+=1\n",
    "            \n",
    "            page = requests.get(url)\n",
    "            soup = BeautifulSoup(page.content, 'html.parser')\n",
    "            p_s = soup.find_all('p')\n",
    "            p_s_text = [curr.text for curr in p_s]\n",
    "            all_text.append(p_s_text)\n",
    "        except:\n",
    "            print('Stopped at {}'.format(count))\n",
    "            continue"
   ]
  },
  {
   "cell_type": "code",
   "execution_count": 13,
   "id": "8cb35ce6",
   "metadata": {},
   "outputs": [
    {
     "data": {
      "text/plain": [
       "2766"
      ]
     },
     "execution_count": 13,
     "metadata": {},
     "output_type": "execute_result"
    }
   ],
   "source": [
    "len(all_text)"
   ]
  },
  {
   "cell_type": "markdown",
   "id": "76f042d6",
   "metadata": {},
   "source": [
    "### Concatanation"
   ]
  },
  {
   "cell_type": "code",
   "execution_count": 20,
   "id": "2ce4dfef",
   "metadata": {},
   "outputs": [],
   "source": [
    "flat_all_text = [item for sublist in all_text for item in sublist]\n",
    "flat_all_text_concat = [item for word in flat_all_text for item in word.split()]\n",
    "flat_all_text_concat_by_sentence = [item for word in flat_all_text for item in word.split('.')]"
   ]
  },
  {
   "cell_type": "code",
   "execution_count": 16,
   "id": "f7bb7052",
   "metadata": {},
   "outputs": [
    {
     "data": {
      "text/plain": [
       "31479"
      ]
     },
     "execution_count": 16,
     "metadata": {},
     "output_type": "execute_result"
    }
   ],
   "source": [
    "len(flat_all_text)"
   ]
  },
  {
   "cell_type": "code",
   "execution_count": 18,
   "id": "6da298dc",
   "metadata": {},
   "outputs": [
    {
     "data": {
      "text/plain": [
       "'Eine Berufskrankheit ist eine Krankheit, die durch die berufliche (versicherte) Tätigkeit verursacht worden ist und nach dem jeweils geltenden Recht auch formal als Berufskrankheit anerkannt ist. Typische Berufskrankheiten sind Lärmschwerhörigkeit, Hautkrankheiten, Erkrankungen des Stütz- und Bewegungsapparats sowie Erkrankungen durch anorganische Stäube (Asbestose und Silikose). Psychische Erschöpfungszustände, wie das Burnout-Syndrom, psychische Störungen oder psychiatrische Erkrankungen zählen bislang nicht zu den Berufskrankheiten.\\n'"
      ]
     },
     "execution_count": 18,
     "metadata": {},
     "output_type": "execute_result"
    }
   ],
   "source": [
    "flat_all_text[0]"
   ]
  },
  {
   "cell_type": "code",
   "execution_count": 15,
   "id": "c8466906",
   "metadata": {},
   "outputs": [
    {
     "data": {
      "text/plain": [
       "1425168"
      ]
     },
     "execution_count": 15,
     "metadata": {},
     "output_type": "execute_result"
    }
   ],
   "source": [
    "len(flat_all_text_concat)"
   ]
  },
  {
   "cell_type": "code",
   "execution_count": 19,
   "id": "02a55d7e",
   "metadata": {},
   "outputs": [
    {
     "data": {
      "text/plain": [
       "'Eine'"
      ]
     },
     "execution_count": 19,
     "metadata": {},
     "output_type": "execute_result"
    }
   ],
   "source": [
    "flat_all_text_concat[0]"
   ]
  },
  {
   "cell_type": "code",
   "execution_count": 21,
   "id": "d78af430",
   "metadata": {},
   "outputs": [
    {
     "data": {
      "text/plain": [
       "122830"
      ]
     },
     "execution_count": 21,
     "metadata": {},
     "output_type": "execute_result"
    }
   ],
   "source": [
    "len(flat_all_text_concat_by_sentence)"
   ]
  },
  {
   "cell_type": "code",
   "execution_count": 29,
   "id": "2337d532",
   "metadata": {},
   "outputs": [],
   "source": [
    "flat_all_text_concat_by_sentence_cleaned = [good_sentence for good_sentence in flat_all_text_concat_by_sentence if len(good_sentence) > 50]"
   ]
  },
  {
   "cell_type": "code",
   "execution_count": 30,
   "id": "f3a460cb",
   "metadata": {},
   "outputs": [
    {
     "data": {
      "text/plain": [
       "80220"
      ]
     },
     "execution_count": 30,
     "metadata": {},
     "output_type": "execute_result"
    }
   ],
   "source": [
    "len(flat_all_text_concat_by_sentence_cleaned)"
   ]
  },
  {
   "cell_type": "code",
   "execution_count": 31,
   "id": "6a7c5d92",
   "metadata": {},
   "outputs": [
    {
     "data": {
      "text/plain": [
       "['Eine Berufskrankheit ist eine Krankheit, die durch die berufliche (versicherte) Tätigkeit verursacht worden ist und nach dem jeweils geltenden Recht auch formal als Berufskrankheit anerkannt ist',\n",
       " ' Typische Berufskrankheiten sind Lärmschwerhörigkeit, Hautkrankheiten, Erkrankungen des Stütz- und Bewegungsapparats sowie Erkrankungen durch anorganische Stäube (Asbestose und Silikose)',\n",
       " ' Psychische Erschöpfungszustände, wie das Burnout-Syndrom, psychische Störungen oder psychiatrische Erkrankungen zählen bislang nicht zu den Berufskrankheiten',\n",
       " 'Mehr als zwanzigtausend Menschen erkranken jährlich in den deutschsprachigen Staaten an Berufskrankheiten',\n",
       " ' Sie werden von den Unfallversicherungsträgern medizinisch rehabilitiert und finanziell entschädigt']"
      ]
     },
     "execution_count": 31,
     "metadata": {},
     "output_type": "execute_result"
    }
   ],
   "source": [
    "flat_all_text_concat_by_sentence_cleaned[0:5]"
   ]
  },
  {
   "cell_type": "code",
   "execution_count": 32,
   "id": "122b99f1",
   "metadata": {},
   "outputs": [],
   "source": [
    "random.shuffle(flat_all_text_concat_by_sentence_cleaned)"
   ]
  },
  {
   "cell_type": "code",
   "execution_count": 33,
   "id": "cf6c05b6",
   "metadata": {},
   "outputs": [
    {
     "data": {
      "text/plain": [
       "[' Die Beweglichkeit der Zunge ist eingeschränkt, so dass sie beispielsweise nicht über die untere Zahnleiste, geschweige denn über die Unterlippe hinausgestreckt werden kann',\n",
       " ' 1700 beschrieb Bernardino Ramazzini die durch Allergene entstandenen Berufskrankheiten in De morbis artificum diatriba',\n",
       " ' Entsprechendes wird weltweit immer wieder berichtet',\n",
       " 'Da taube Personen durch ihre Kommunikationsbehinderung in der Gesellschaft häufig isoliert sind, werden soziale Kontakte gern innerhalb von Gehörlosenkreisen gepflegt',\n",
       " ' Beispiele für im Stoffwechsel vorkommende aggressive Oxidantien sind Sauerstoffradikale, Hydroxyl-Radikale und Wasserstoffperoxid']"
      ]
     },
     "execution_count": 33,
     "metadata": {},
     "output_type": "execute_result"
    }
   ],
   "source": [
    "flat_all_text_concat_by_sentence_cleaned[0:5]"
   ]
  },
  {
   "cell_type": "code",
   "execution_count": 26,
   "id": "9b37891e",
   "metadata": {},
   "outputs": [
    {
     "name": "stdout",
     "output_type": "stream",
     "text": [
      "/Users/kaankorkmaz/projects_KK/thesis/scraping/wikipedia\r\n"
     ]
    }
   ],
   "source": [
    "!pwd"
   ]
  },
  {
   "cell_type": "markdown",
   "id": "5ba7d979",
   "metadata": {},
   "source": [
    "### All sentences"
   ]
  },
  {
   "cell_type": "code",
   "execution_count": 34,
   "id": "ab467cd0",
   "metadata": {},
   "outputs": [],
   "source": [
    "textfile = open(\"/Users/kaankorkmaz/projects_KK/thesis/data/german_medical_wiki/gmw-sentences.txt\", \"w\")\n",
    "for element in flat_all_text_concat_by_sentence_cleaned:\n",
    "    textfile.write(element + \"\\n\")\n",
    "textfile.close()"
   ]
  },
  {
   "cell_type": "markdown",
   "id": "70b45c58",
   "metadata": {},
   "source": [
    "### Train set"
   ]
  },
  {
   "cell_type": "code",
   "execution_count": 39,
   "id": "6bf4a992",
   "metadata": {},
   "outputs": [
    {
     "data": {
      "text/plain": [
       "80220"
      ]
     },
     "execution_count": 39,
     "metadata": {},
     "output_type": "execute_result"
    }
   ],
   "source": [
    "total_items = len(flat_all_text_concat_by_sentence_cleaned)\n",
    "total_items"
   ]
  },
  {
   "cell_type": "code",
   "execution_count": 46,
   "id": "7c852a83",
   "metadata": {},
   "outputs": [
    {
     "name": "stdout",
     "output_type": "stream",
     "text": [
      "Train start index:16045\n",
      "Test finish index:16044\n"
     ]
    }
   ],
   "source": [
    "train_start_index = int(total_items * 0.2 + 1)\n",
    "test_finish_index = int(train_start_index - 1)\n",
    "print(f\"Train start index:{train_start_index}\")\n",
    "print(f\"Test finish index:{test_finish_index}\")"
   ]
  },
  {
   "cell_type": "code",
   "execution_count": 47,
   "id": "a205e118",
   "metadata": {},
   "outputs": [
    {
     "data": {
      "text/plain": [
       "16044"
      ]
     },
     "execution_count": 47,
     "metadata": {},
     "output_type": "execute_result"
    }
   ],
   "source": [
    "test_finish_index "
   ]
  },
  {
   "cell_type": "code",
   "execution_count": 48,
   "id": "686322a7",
   "metadata": {},
   "outputs": [],
   "source": [
    "textfile = open(\"/Users/kaankorkmaz/projects_KK/thesis/data/german_medical_wiki/gmw-sentences_train.txt\", \"w\")\n",
    "for element in flat_all_text_concat_by_sentence_cleaned[train_start_index:]:\n",
    "    textfile.write(element + \"\\n\")\n",
    "textfile.close()"
   ]
  },
  {
   "cell_type": "markdown",
   "id": "d31ece38",
   "metadata": {},
   "source": [
    "### Test set"
   ]
  },
  {
   "cell_type": "code",
   "execution_count": 49,
   "id": "a9af758c",
   "metadata": {},
   "outputs": [],
   "source": [
    "textfile = open(\"/Users/kaankorkmaz/projects_KK/thesis/data/german_medical_wiki/gmw-sentences_test.txt\", \"w\")\n",
    "for element in flat_all_text_concat_by_sentence_cleaned[0:test_finish_index]:\n",
    "    textfile.write(element + \"\\n\")\n",
    "textfile.close()"
   ]
  },
  {
   "cell_type": "markdown",
   "id": "3171b375",
   "metadata": {},
   "source": [
    "### Dataframe creation & save as CSV"
   ]
  },
  {
   "cell_type": "code",
   "execution_count": 63,
   "id": "45ef5a7e",
   "metadata": {},
   "outputs": [],
   "source": [
    "df_all_text = pd.DataFrame(flat_all_text_concat)"
   ]
  },
  {
   "cell_type": "code",
   "execution_count": 68,
   "id": "da13a4ea",
   "metadata": {},
   "outputs": [
    {
     "data": {
      "text/html": [
       "<div>\n",
       "<style scoped>\n",
       "    .dataframe tbody tr th:only-of-type {\n",
       "        vertical-align: middle;\n",
       "    }\n",
       "\n",
       "    .dataframe tbody tr th {\n",
       "        vertical-align: top;\n",
       "    }\n",
       "\n",
       "    .dataframe thead th {\n",
       "        text-align: right;\n",
       "    }\n",
       "</style>\n",
       "<table border=\"1\" class=\"dataframe\">\n",
       "  <thead>\n",
       "    <tr style=\"text-align: right;\">\n",
       "      <th></th>\n",
       "      <th>0</th>\n",
       "    </tr>\n",
       "  </thead>\n",
       "  <tbody>\n",
       "    <tr>\n",
       "      <th>0</th>\n",
       "      <td>Eine</td>\n",
       "    </tr>\n",
       "    <tr>\n",
       "      <th>1</th>\n",
       "      <td>Berufskrankheit</td>\n",
       "    </tr>\n",
       "    <tr>\n",
       "      <th>2</th>\n",
       "      <td>ist</td>\n",
       "    </tr>\n",
       "    <tr>\n",
       "      <th>3</th>\n",
       "      <td>eine</td>\n",
       "    </tr>\n",
       "    <tr>\n",
       "      <th>4</th>\n",
       "      <td>Krankheit,</td>\n",
       "    </tr>\n",
       "    <tr>\n",
       "      <th>...</th>\n",
       "      <td>...</td>\n",
       "    </tr>\n",
       "    <tr>\n",
       "      <th>1413317</th>\n",
       "      <td>dieser</td>\n",
       "    </tr>\n",
       "    <tr>\n",
       "      <th>1413318</th>\n",
       "      <td>Kategorie,</td>\n",
       "    </tr>\n",
       "    <tr>\n",
       "      <th>1413319</th>\n",
       "      <td>von</td>\n",
       "    </tr>\n",
       "    <tr>\n",
       "      <th>1413320</th>\n",
       "      <td>80</td>\n",
       "    </tr>\n",
       "    <tr>\n",
       "      <th>1413321</th>\n",
       "      <td>insgesamt.</td>\n",
       "    </tr>\n",
       "  </tbody>\n",
       "</table>\n",
       "<p>1413322 rows × 1 columns</p>\n",
       "</div>"
      ],
      "text/plain": [
       "                       0\n",
       "0                   Eine\n",
       "1        Berufskrankheit\n",
       "2                    ist\n",
       "3                   eine\n",
       "4             Krankheit,\n",
       "...                  ...\n",
       "1413317           dieser\n",
       "1413318       Kategorie,\n",
       "1413319              von\n",
       "1413320               80\n",
       "1413321       insgesamt.\n",
       "\n",
       "[1413322 rows x 1 columns]"
      ]
     },
     "execution_count": 68,
     "metadata": {},
     "output_type": "execute_result"
    }
   ],
   "source": [
    "df_all_text"
   ]
  },
  {
   "cell_type": "code",
   "execution_count": 69,
   "id": "211dd95a",
   "metadata": {},
   "outputs": [],
   "source": [
    "df_all_text.to_csv('data/vocabulary/germanwiki_vocab.csv', index=False)"
   ]
  },
  {
   "cell_type": "code",
   "execution_count": null,
   "id": "c712ad90",
   "metadata": {},
   "outputs": [],
   "source": []
  }
 ],
 "metadata": {
  "kernelspec": {
   "display_name": "Python 3",
   "language": "python",
   "name": "python3"
  },
  "language_info": {
   "codemirror_mode": {
    "name": "ipython",
    "version": 3
   },
   "file_extension": ".py",
   "mimetype": "text/x-python",
   "name": "python",
   "nbconvert_exporter": "python",
   "pygments_lexer": "ipython3",
   "version": "3.8.8"
  }
 },
 "nbformat": 4,
 "nbformat_minor": 5
}
